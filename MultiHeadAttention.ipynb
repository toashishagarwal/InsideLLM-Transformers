{
  "nbformat": 4,
  "nbformat_minor": 0,
  "metadata": {
    "colab": {
      "provenance": []
    },
    "kernelspec": {
      "name": "python3",
      "display_name": "Python 3"
    },
    "language_info": {
      "name": "python"
    }
  },
  "cells": [
    {
      "cell_type": "code",
      "source": [
        "import numpy as np\n",
        "import torch\n",
        "import torch.nn as nn\n",
        "import torch.nn.functional as F"
      ],
      "metadata": {
        "id": "NEQ85gH5JyUS"
      },
      "execution_count": null,
      "outputs": []
    },
    {
      "cell_type": "code",
      "execution_count": null,
      "metadata": {
        "id": "D4GSYQ_oJpG-"
      },
      "outputs": [],
      "source": [
        "class MultiHeadAttention(nn.Module):\n",
        "    \"\"\"\n",
        "    Multi-head Attention mechanism implementation.\n",
        "\n",
        "    This allows the model to jointly attend to information from different\n",
        "    representation subspaces at different positions.\n",
        "    \"\"\"\n",
        "\n",
        "    def __init__(self, d_model, num_heads, dropout=0.1):\n",
        "        \"\"\"\n",
        "        Initialize the multi-head attention module.\n",
        "\n",
        "        Args:\n",
        "            d_model (int): The dimension of the model (embedding dimension)\n",
        "            num_heads (int): Number of attention heads\n",
        "            dropout (float): Dropout probability\n",
        "        \"\"\"\n",
        "        super(MultiHeadAttention, self).__init__()\n",
        "\n",
        "        # Ensure d_model is divisible by num_heads\n",
        "        assert d_model % num_heads == 0, \"d_model must be divisible by num_heads\"\n",
        "\n",
        "        self.d_model = d_model\n",
        "        self.num_heads = num_heads\n",
        "        self.d_k = d_model // num_heads  # Dimension of each head\n",
        "\n",
        "        # Linear projections for Q, K, V and output\n",
        "        self.query_proj = nn.Linear(d_model, d_model)\n",
        "        self.key_proj = nn.Linear(d_model, d_model)\n",
        "        self.value_proj = nn.Linear(d_model, d_model)\n",
        "\n",
        "        self.output_proj = nn.Linear(d_model, d_model)\n",
        "        self.dropout = nn.Dropout(dropout)\n",
        "\n",
        "    def split_heads(self, x, batch_size):\n",
        "        \"\"\"\n",
        "        Split the last dimension into (num_heads, d_k)\n",
        "        and transpose to get shape (batch_size, num_heads, seq_len, d_k)\n",
        "        \"\"\"\n",
        "        x = x.view(batch_size, -1, self.num_heads, self.d_k)\n",
        "        return x.permute(0, 2, 1, 3)\n",
        "\n",
        "    def forward(self, query, key, value, mask=None):\n",
        "        \"\"\"\n",
        "        Forward pass for multi-head attention\n",
        "\n",
        "        Args:\n",
        "            query: Query tensor (batch_size, seq_len_q, d_model)\n",
        "            key: Key tensor (batch_size, seq_len_k, d_model)\n",
        "            value: Value tensor (batch_size, seq_len_v, d_model)\n",
        "            mask: Optional mask tensor for masked attention\n",
        "\n",
        "        Returns:\n",
        "            output: Attention output (batch_size, seq_len_q, d_model)\n",
        "            attention_weights: Attention weights\n",
        "        \"\"\"\n",
        "        batch_size = query.size(0)\n",
        "\n",
        "        # Linear projections and split heads\n",
        "        Q = self.split_heads(self.query_proj(query), batch_size)  # (batch_size, num_heads, seq_len_q, d_k)\n",
        "        K = self.split_heads(self.key_proj(key), batch_size)      # (batch_size, num_heads, seq_len_k, d_k)\n",
        "        V = self.split_heads(self.value_proj(value), batch_size)  # (batch_size, num_heads, seq_len_v, d_k)\n",
        "\n",
        "        # Scaled dot-product attention\n",
        "        # (batch_size, num_heads, seq_len_q, d_k) @ (batch_size, num_heads, d_k, seq_len_k)\n",
        "        # -> (batch_size, num_heads, seq_len_q, seq_len_k)\n",
        "        scores = torch.matmul(Q, K.transpose(-2, -1)) / np.sqrt(self.d_k)\n",
        "\n",
        "        # Apply mask if provided\n",
        "        if mask is not None:\n",
        "            scores = scores.masked_fill(mask == 0, -1e9)\n",
        "\n",
        "        # Apply softmax to get attention weights\n",
        "        attention_weights = F.softmax(scores, dim=-1)\n",
        "        attention_weights = self.dropout(attention_weights)\n",
        "\n",
        "        # Apply attention weights to values\n",
        "        # (batch_size, num_heads, seq_len_q, seq_len_k) @ (batch_size, num_heads, seq_len_v, d_k)\n",
        "        # -> (batch_size, num_heads, seq_len_q, d_k)\n",
        "        context = torch.matmul(attention_weights, V)\n",
        "\n",
        "        # Reshape back to (batch_size, seq_len_q, d_model)\n",
        "        context = context.permute(0, 2, 1, 3).contiguous()\n",
        "        context = context.view(batch_size, -1, self.d_model)\n",
        "\n",
        "        # Final linear projection\n",
        "        output = self.output_proj(context)\n",
        "\n",
        "        return output, attention_weights"
      ]
    },
    {
      "cell_type": "code",
      "source": [
        "# Example usage\n",
        "def test_multi_head_attention():\n",
        "    batch_size = 2\n",
        "    seq_len = 10\n",
        "    d_model = 64\n",
        "    num_heads = 8\n",
        "\n",
        "    # Create random input tensors\n",
        "    query = torch.randn(batch_size, seq_len, d_model)\n",
        "    key = torch.randn(batch_size, seq_len, d_model)\n",
        "    value = torch.randn(batch_size, seq_len, d_model)\n",
        "\n",
        "    # Create mask (for causal/self-attention like in decoder)\n",
        "    mask = torch.triu(torch.ones((seq_len, seq_len)), diagonal=1).unsqueeze(0).unsqueeze(0)\n",
        "    mask = (1.0 - mask).bool()  # Convert to boolean mask where 1 means keep, 0 means mask\n",
        "\n",
        "    # Initialize multi-head attention layer\n",
        "    mha = MultiHeadAttention(d_model, num_heads)\n",
        "\n",
        "    # Forward pass\n",
        "    output, attention = mha(query, key, value, mask)\n",
        "\n",
        "    print(f\"Input shape: {query.shape}\")\n",
        "    print(f\"Output shape: {output.shape}\")\n",
        "    print(f\"Attention weights shape: {attention.shape}\")\n",
        "\n",
        "    return output, attention\n",
        "\n",
        "\n",
        "if __name__ == \"__main__\":\n",
        "    test_multi_head_attention()"
      ],
      "metadata": {
        "colab": {
          "base_uri": "https://localhost:8080/"
        },
        "id": "SgYPxoCAJvTT",
        "outputId": "b7c62b20-3c1d-4e8e-c1bd-30f2d76aae3e"
      },
      "execution_count": null,
      "outputs": [
        {
          "output_type": "stream",
          "name": "stdout",
          "text": [
            "Input shape: torch.Size([2, 10, 64])\n",
            "Output shape: torch.Size([2, 10, 64])\n",
            "Attention weights shape: torch.Size([2, 8, 10, 10])\n"
          ]
        }
      ]
    }
  ]
}